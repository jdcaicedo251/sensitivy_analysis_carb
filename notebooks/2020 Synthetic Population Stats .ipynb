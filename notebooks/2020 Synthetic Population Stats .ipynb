{
 "cells": [
  {
   "cell_type": "code",
   "execution_count": 1,
   "id": "ac363f9a",
   "metadata": {},
   "outputs": [],
   "source": [
    "import pandas as pd\n",
    "import numpy as np\n",
    "import matplotlib.pyplot as plt \n",
    "import geopandas as gpd\n",
    "import contextily as cx"
   ]
  },
  {
   "cell_type": "code",
   "execution_count": 2,
   "id": "466c3f97",
   "metadata": {},
   "outputs": [
    {
     "data": {
      "text/plain": [
       "'/Users/juandavidcaicedocastro/Dropbox/01_berkeley/22_UrbanSim/github/sensitivy_analysis_carb/notebooks'"
      ]
     },
     "execution_count": 2,
     "metadata": {},
     "output_type": "execute_result"
    }
   ],
   "source": [
    "import os\n",
    "os.getcwd()"
   ]
  },
  {
   "cell_type": "code",
   "execution_count": 3,
   "id": "9d2f18bd",
   "metadata": {},
   "outputs": [],
   "source": [
    "hdf = pd.HDFStore(\"custom_mpo_06197001_model_data.h5\")"
   ]
  },
  {
   "cell_type": "code",
   "execution_count": 4,
   "id": "03fc14f7",
   "metadata": {},
   "outputs": [
    {
     "name": "stdout",
     "output_type": "stream",
     "text": [
      "2020 BASELINE SYNTHETIC POPULATION STATS\n",
      "Number of blocks: 108469\n",
      "Number of households: 2852721\n",
      "Number of persons: 7448391\n"
     ]
    }
   ],
   "source": [
    "#Statistics\n",
    "blocks = hdf['/blocks']\n",
    "households = hdf['/households']\n",
    "persons = hdf['/persons']\n",
    "\n",
    "num_blocks = blocks.shape[0]\n",
    "num_households = households.shape[0]\n",
    "num_persons = persons.shape[0]\n",
    "\n",
    "print(\"2020 BASELINE SYNTHETIC POPULATION STATS\")\n",
    "print(f\"Number of blocks: {num_blocks}\")\n",
    "print(f\"Number of households: {num_households}\")\n",
    "print(f\"Number of persons: {num_persons}\")"
   ]
  },
  {
   "cell_type": "code",
   "execution_count": 5,
   "id": "5ccd4e3b",
   "metadata": {},
   "outputs": [
    {
     "data": {
      "text/html": [
       "<div>\n",
       "<style scoped>\n",
       "    .dataframe tbody tr th:only-of-type {\n",
       "        vertical-align: middle;\n",
       "    }\n",
       "\n",
       "    .dataframe tbody tr th {\n",
       "        vertical-align: top;\n",
       "    }\n",
       "\n",
       "    .dataframe thead th {\n",
       "        text-align: right;\n",
       "    }\n",
       "</style>\n",
       "<table border=\"1\" class=\"dataframe\">\n",
       "  <thead>\n",
       "    <tr style=\"text-align: right;\">\n",
       "      <th></th>\n",
       "      <th>total_number_of_jobs</th>\n",
       "      <th>total_number_of_households</th>\n",
       "    </tr>\n",
       "    <tr>\n",
       "      <th>year</th>\n",
       "      <th></th>\n",
       "      <th></th>\n",
       "    </tr>\n",
       "  </thead>\n",
       "  <tbody>\n",
       "    <tr>\n",
       "      <th>2010</th>\n",
       "      <td>4289724.0</td>\n",
       "      <td>2607987.0</td>\n",
       "    </tr>\n",
       "    <tr>\n",
       "      <th>2015</th>\n",
       "      <td>5041155.0</td>\n",
       "      <td>2743715.0</td>\n",
       "    </tr>\n",
       "    <tr>\n",
       "      <th>2020</th>\n",
       "      <td>5261920.0</td>\n",
       "      <td>2852721.0</td>\n",
       "    </tr>\n",
       "    <tr>\n",
       "      <th>2025</th>\n",
       "      <td>5364976.0</td>\n",
       "      <td>2927113.0</td>\n",
       "    </tr>\n",
       "    <tr>\n",
       "      <th>2030</th>\n",
       "      <td>5468408.0</td>\n",
       "      <td>3014649.0</td>\n",
       "    </tr>\n",
       "    <tr>\n",
       "      <th>2035</th>\n",
       "      <td>5575060.0</td>\n",
       "      <td>3096392.0</td>\n",
       "    </tr>\n",
       "    <tr>\n",
       "      <th>2040</th>\n",
       "      <td>5685031.0</td>\n",
       "      <td>3173057.0</td>\n",
       "    </tr>\n",
       "    <tr>\n",
       "      <th>2045</th>\n",
       "      <td>5798430.0</td>\n",
       "      <td>3238257.0</td>\n",
       "    </tr>\n",
       "    <tr>\n",
       "      <th>2050</th>\n",
       "      <td>5915370.0</td>\n",
       "      <td>3287392.0</td>\n",
       "    </tr>\n",
       "  </tbody>\n",
       "</table>\n",
       "</div>"
      ],
      "text/plain": [
       "      total_number_of_jobs  total_number_of_households\n",
       "year                                                  \n",
       "2010             4289724.0                   2607987.0\n",
       "2015             5041155.0                   2743715.0\n",
       "2020             5261920.0                   2852721.0\n",
       "2025             5364976.0                   2927113.0\n",
       "2030             5468408.0                   3014649.0\n",
       "2035             5575060.0                   3096392.0\n",
       "2040             5685031.0                   3173057.0\n",
       "2045             5798430.0                   3238257.0\n",
       "2050             5915370.0                   3287392.0"
      ]
     },
     "execution_count": 5,
     "metadata": {},
     "output_type": "execute_result"
    }
   ],
   "source": [
    "growth = pd.concat((hdf['/ect'], hdf['/hct']), axis = 1)\n",
    "growth[growth.index % 5 == 0]"
   ]
  },
  {
   "cell_type": "code",
   "execution_count": 6,
   "id": "2d1c9196",
   "metadata": {},
   "outputs": [
    {
     "data": {
      "text/plain": [
       "Low Income       0.517210\n",
       "Middle Income    0.266915\n",
       "High Income      0.215875\n",
       "Name: income, dtype: float64"
      ]
     },
     "execution_count": 6,
     "metadata": {},
     "output_type": "execute_result"
    }
   ],
   "source": [
    "bins = [-np.inf, 80000, 150000, np.inf]\n",
    "labels = ['Low Income', 'Middle Income', 'High Income']\n",
    "income_cat = pd.cut(households.income, bins = bins, labels = labels)\n",
    "income_cat.value_counts(normalize = True)"
   ]
  },
  {
   "cell_type": "markdown",
   "id": "a9343fd0",
   "metadata": {},
   "source": [
    "For the Year 2019, MEDIAN Income in the San Francisco -Oakland - Berkeley Metropolitan Area was $106,025\n",
    "\n",
    "San Francisco - Oakland - Berkeley\n",
    "https://data.census.gov/table?q=ACS+5-Year+Estimates+Data+Profiles&g=310XX00US41860&tid=ACSDP5Y2019.DP03&hidePreview=false\n",
    "\n",
    "(80\\% Mediam Income of the Area) The low-income bracket of 0-$80k is reasonable because it includes households earning less than the MSA median income, and is approximately half of all households in the area. This bracket includes those who may struggle to afford the high cost of living in San Francisco, such as lower-income workers, retirees, and students.\n",
    "\n",
    "(80% to 150% Mediam Income) The middle-income bracket you propose of $80k-$150k could be seen as capturing households who earn more than the median income, but who may still struggle to afford the high cost of living in San Francisco (80% to 150% median Value). This bracket includes many professionals and middle-class workers who may be able to afford a decent standard of living, but who may face challenges such as high housing costs.\n",
    "\n",
    "(150% Mediam Housheold Income) The high-income bracket you propose of $150k+ captures households who earn significantly more than the median income, and who are likely to have a relatively high standard of living. This bracket includes many high-earning professionals, executives, and entrepreneurs, as well as those in the top 5-10\\% of earners in the area."
   ]
  },
  {
   "cell_type": "code",
   "execution_count": 26,
   "id": "1d08130b",
   "metadata": {},
   "outputs": [
    {
     "name": "stdout",
     "output_type": "stream",
     "text": [
      "Income\n",
      "Low Income       0.517210\n",
      "Middle Income    0.266915\n",
      "High Income      0.215875\n",
      "Name: income, dtype: float64\n",
      "\n",
      "Car Ownership\n",
      "2    0.419162\n",
      "1    0.289937\n",
      "3    0.150222\n",
      "0    0.076176\n",
      "4    0.064502\n",
      "Name: cars, dtype: float64\n",
      "\n",
      "Household Workers\n",
      "one            0.404223\n",
      "two or more    0.372822\n",
      "none           0.222955\n",
      "Name: hh_workers, dtype: float64\n",
      "\n",
      "Household Size\n",
      "two             0.313318\n",
      "one             0.266898\n",
      "four or more    0.258015\n",
      "three           0.161769\n",
      "Name: hh_size, dtype: float64\n",
      "\n",
      "Household Type\n",
      "3    0.231966\n",
      "7    0.221620\n",
      "4    0.220931\n",
      "2    0.084200\n",
      "5    0.082485\n",
      "6    0.068817\n",
      "8    0.058585\n",
      "1    0.031395\n",
      "Name: hh_type, dtype: float64\n",
      "\n"
     ]
    }
   ],
   "source": [
    "# Possible Stats: \n",
    "\n",
    "#Income \n",
    "bins = [-np.inf, 80000, 150000, np.inf]\n",
    "labels = ['Low Income', 'Middle Income', 'High Income']\n",
    "income_cat = pd.cut(households.income, bins = bins, labels = labels)\n",
    "print('Income')\n",
    "print(income_cat.sort_values().value_counts(normalize = True))\n",
    "print('')\n",
    "\n",
    "#Number of Cars \n",
    "print('Car Ownership')\n",
    "print(households.cars.value_counts(normalize = True))\n",
    "print(\"\")\n",
    "\n",
    "#Number of Workers \n",
    "print('Household Workers')\n",
    "print(households['hh_workers'].value_counts(normalize = True))\n",
    "print(\"\")\n",
    "\n",
    "# HH Size\n",
    "print('Household Size')\n",
    "print(households['hh_size'].value_counts(normalize = True))\n",
    "print(\"\")\n",
    "\n",
    "# HH Type\n",
    "print('Household Type')\n",
    "print(households['hh_type'].value_counts(normalize = True))\n",
    "print(\"\")"
   ]
  },
  {
   "cell_type": "code",
   "execution_count": 48,
   "id": "4ba977e7",
   "metadata": {},
   "outputs": [
    {
     "name": "stdout",
     "output_type": "stream",
     "text": [
      "Race\n",
      "white    0.571237\n",
      "asian    0.238087\n",
      "other    0.134274\n",
      "black    0.056403\n",
      "Name: race, dtype: float64\n",
      "\n",
      "Hispanic\n",
      "no     0.777822\n",
      "yes    0.222178\n",
      "Name: p_hispanic, dtype: float64\n",
      "\n",
      "Sex\n",
      "female    0.508706\n",
      "male      0.491294\n",
      "Name: person_sex, dtype: float64\n",
      "\n",
      "Education\n",
      "Some College / Bachelor    0.420280\n",
      "k-12                       0.316127\n",
      "High School Diploma        0.137300\n",
      "Graudate                   0.126293\n",
      "Name: edu, dtype: float64\n",
      "\n",
      "Age\n",
      "0- 20    0.255820\n",
      "60+      0.183662\n",
      "50-60    0.152754\n",
      "40-50    0.149938\n",
      "30-40    0.135098\n",
      "20-30    0.122727\n",
      "Name: age, dtype: float64\n",
      "\n"
     ]
    }
   ],
   "source": [
    "#Race \n",
    "print(\"Race\")\n",
    "print(persons.race.value_counts(normalize = True))\n",
    "print('')\n",
    "\n",
    "#Hispanic \n",
    "print(\"Hispanic\")\n",
    "print(persons['p_hispanic'].value_counts(normalize = True))\n",
    "print('')\n",
    "\n",
    "#Sex \n",
    "print(\"Sex\")\n",
    "print(persons['person_sex'].value_counts(normalize = True))\n",
    "print('')\n",
    "\n",
    "#Education \n",
    "bins = [-np.inf, 15, 17, 21, np.inf]\n",
    "labels = ['k-12', 'High School Diploma', 'Some College / Bachelor', 'Graudate']\n",
    "edu_cat = pd.cut(persons['edu'], bins = bins, labels = labels)\n",
    "print('Education')\n",
    "print(edu_cat.sort_values().value_counts(normalize = True))\n",
    "print('')\n",
    "\n",
    "#Age\n",
    "bins = [-np.inf, 20, 30, 40, 50, 60, np.inf]\n",
    "labels = ['0- 20', '20-30', '30-40', '40-50', '50-60', '60+']\n",
    "age_cat = pd.cut(persons.age, bins = bins, labels = labels)\n",
    "print('Age')\n",
    "print(age_cat.sort_values().value_counts(normalize = True))\n",
    "print('')"
   ]
  },
  {
   "cell_type": "markdown",
   "id": "0913fa43",
   "metadata": {},
   "source": [
    "Potential Things to add:\n",
    "- Geographyc Distribution"
   ]
  },
  {
   "cell_type": "markdown",
   "id": "87a8c78b",
   "metadata": {},
   "source": [
    "# Plot Bay Area Residential Units Density Plot"
   ]
  },
  {
   "cell_type": "code",
   "execution_count": null,
   "id": "4a76ca1c",
   "metadata": {},
   "outputs": [],
   "source": [
    "blocks_fpath = 'blocks_sf/block_sfbay.shp'\n",
    "blocks_geo = gpd.read_file(blocks_fpath)"
   ]
  },
  {
   "cell_type": "code",
   "execution_count": null,
   "id": "ca045e83",
   "metadata": {},
   "outputs": [],
   "source": [
    "blocks_merged = blocks_geo.merge(blocks, how = 'inner', left_on = \"GEOID\", right_index = True)\n",
    "blocks_merged = blocks_merged.to_crs('EPSG:5070')\n",
    "taz = blocks_merged.dissolve(by='taz_zone_id', aggfunc='sum')\n",
    "taz['area_acres'] = taz.geometry.area * 0.000247105 # Area in Acres\n",
    "taz['residential_density'] = taz['residential_unit_capacity']/taz['area_acres']\n",
    "taz = taz.to_crs(epsg=3857)"
   ]
  },
  {
   "cell_type": "code",
   "execution_count": null,
   "id": "492a372d",
   "metadata": {},
   "outputs": [],
   "source": [
    "# Densitiy Bins\n",
    "bins = [0, 6, 30, 200]\n",
    "labels = ['0-5', '5-30', '30+']\n",
    "taz['bin'] = pd.cut(taz['residential_density'], bins=bins, labels=labels)\n",
    "\n",
    "# Bay Area Boundary\n",
    "bay_area_boundary = taz.dissolve().geometry.boundary\n",
    "\n",
    "# Plot\n",
    "ax = taz.plot(figsize = (20,20), column = 'bin', legend = True, cmap='OrRd', alpha = 0.6, categorical = True)\n",
    "bay_area_boundary.plot(ax = ax, color = 'black')\n",
    "cx.add_basemap(ax, source=cx.providers.Stamen.TonerLite)\n",
    "cx.add_basemap(ax, source=cx.providers.Stamen.TonerLabels)\n",
    "\n",
    "# Customize the legend properties\n",
    "legend = ax.get_legend()\n",
    "legend.set_title('Residential Units per Acre', prop={'family': 'serif'})\n",
    "legend.get_title().set_fontsize(30)\n",
    "legend.set_bbox_to_anchor((0.45, 0.2))\n",
    "\n",
    "\n",
    "# legend.align = 'left'\n",
    "for text in legend.get_texts():\n",
    "    text.set_fontsize(30)\n",
    "    text.set_fontfamily('serif')\n",
    "    text.set_ha('left')\n",
    "    \n",
    "ax.set_axis_off()"
   ]
  },
  {
   "cell_type": "code",
   "execution_count": null,
   "id": "ec6cbc38",
   "metadata": {},
   "outputs": [],
   "source": []
  }
 ],
 "metadata": {
  "kernelspec": {
   "display_name": "Python 3 (ipykernel)",
   "language": "python",
   "name": "python3"
  },
  "language_info": {
   "codemirror_mode": {
    "name": "ipython",
    "version": 3
   },
   "file_extension": ".py",
   "mimetype": "text/x-python",
   "name": "python",
   "nbconvert_exporter": "python",
   "pygments_lexer": "ipython3",
   "version": "3.9.13"
  }
 },
 "nbformat": 4,
 "nbformat_minor": 5
}
