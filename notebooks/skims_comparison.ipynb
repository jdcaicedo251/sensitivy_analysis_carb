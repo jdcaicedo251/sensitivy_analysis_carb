{
 "cells": [
  {
   "cell_type": "code",
   "execution_count": 35,
   "id": "4f60c68d",
   "metadata": {},
   "outputs": [],
   "source": [
    "import pandas as pd \n",
    "import numpy as np\n",
    "import openmatrix as omx"
   ]
  },
  {
   "cell_type": "code",
   "execution_count": 36,
   "id": "b9ff63fe",
   "metadata": {},
   "outputs": [],
   "source": [
    "def read_skims(path, mode='a'):\n",
    "    \"\"\"\n",
    "    Opens skims OMX file. \n",
    "    Parameters:\n",
    "    ------------\n",
    "    mode : string\n",
    "        'r' for read-only; \n",
    "        'w' to write (erases existing file); \n",
    "        'a' to read/write an existing file (will create it if doesn't exist).\n",
    "        Ignored in read-only mode.  \n",
    "    \"\"\"\n",
    "    skims = omx.open_file(path, mode = mode)\n",
    "    return skims"
   ]
  },
  {
   "cell_type": "code",
   "execution_count": 166,
   "id": "21377037",
   "metadata": {},
   "outputs": [],
   "source": [
    "# MTC skims\n",
    "mtc_path = 'skims/mtc_skims.omx'\n",
    "mtc_skims = read_skims(mtc_path, mode='r')\n",
    "\n",
    "# Beam Skims\n",
    "beam_path = 'skims/beam_skims.omx'\n",
    "beam_skims = read_skims(beam_path, mode='r')"
   ]
  },
  {
   "cell_type": "code",
   "execution_count": 167,
   "id": "f55715e5",
   "metadata": {},
   "outputs": [
    {
     "name": "stdout",
     "output_type": "stream",
     "text": [
      "Average Waiting Time Difference: -11.696301175722203\n"
     ]
    },
    {
     "data": {
      "image/png": "[encoded data removed]",
      "text/plain": [
       "<Figure size 432x288 with 1 Axes>"
      ]
     },
     "metadata": {
      "needs_background": "light"
     },
     "output_type": "display_data"
    }
   ],
   "source": [
    "# Select IWAIT times. IWAIT = Initial wait time, time (minutes x 100)\n",
    "matrix_names = pd.Series(mtc_skims.list_matrices())\n",
    "waiting_times = matrix_names[matrix_names.str.contains('IWAIT')]\n",
    "\n",
    "# Compare each wait time matrix MTC vs BEAM\n",
    "diff_list = []\n",
    "for matrix in waiting_times:\n",
    "    try: \n",
    "        m1 = np.array(mtc_skims[matrix])[:1454,:1454]/100\n",
    "        m2 = np.array(beam_skims[matrix])/100\n",
    "        diff = (m2 - m1).flatten()\n",
    "        diff_list.append(diff)\n",
    "    except KeyError:\n",
    "        pass\n",
    "    \n",
    "# Concatenate Results in single Pandas Series\n",
    "diffs = pd.Series(np.concatenate(diff_list))\n",
    "\n",
    "# Filter out difference that are zeros\n",
    "d1 = diffs[diffs != 0]\n",
    "\n",
    "#Statistics \n",
    "avg_diff = d1.mean()\n",
    "print (f\"Average Waiting Time Difference: {avg_diff}\")\n",
    "\n",
    "#Plots\n",
    "d1.plot.hist();"
   ]
  },
  {
   "cell_type": "markdown",
   "id": "b0509c2f",
   "metadata": {},
   "source": [
    "**Conclusion** \n",
    "\n",
    "- BEAM transit waiting times are, on average, 11 mins off MTC waiting times. It can be true that modifying the frequency might be underestimating the true behaviour of waiting times. "
   ]
  },
  {
   "cell_type": "code",
   "execution_count": null,
   "id": "f4917783",
   "metadata": {},
   "outputs": [],
   "source": []
  }
 ],
 "metadata": {
  "kernelspec": {
   "display_name": "Python 3 (ipykernel)",
   "language": "python",
   "name": "python3"
  },
  "language_info": {
   "codemirror_mode": {
    "name": "ipython",
    "version": 3
   },
   "file_extension": ".py",
   "mimetype": "text/x-python",
   "name": "python",
   "nbconvert_exporter": "python",
   "pygments_lexer": "ipython3",
   "version": "3.9.13"
  }
 },
 "nbformat": 4,
 "nbformat_minor": 5
}
