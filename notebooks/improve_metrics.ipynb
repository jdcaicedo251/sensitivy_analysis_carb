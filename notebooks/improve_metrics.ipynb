{
 "cells": [
  {
   "cell_type": "code",
   "execution_count": 1,
   "id": "8a4b4b2f",
   "metadata": {},
   "outputs": [],
   "source": [
    "import pandas as pd \n",
    "import openmatrix as omx\n",
    "import numpy as np\n",
    "\n",
    "import kpi"
   ]
  },
  {
   "cell_type": "code",
   "execution_count": 3,
   "id": "637e173c",
   "metadata": {},
   "outputs": [
    {
     "name": "stdout",
     "output_type": "stream",
     "text": [
      "09/23/2022 05:13:34 PM root - INFO - Saving policy scenario resutls\n"
     ]
    },
    {
     "data": {
      "text/plain": [
       "{'policy': 'tnc_price',\n",
       " 'name': 'scenario_1',\n",
       " 'total_vmt': 21340.914593614812,\n",
       " 'vmt_per_capita': 15.902320859623556,\n",
       " 'vmt_per_capita_income': {'low': 14.515832063406275,\n",
       "  'middle': 17.68010006317248,\n",
       "  'high': 16.45092071505014},\n",
       " 'vmt_per_capita_race': {'asian': 15.058961650634469,\n",
       "  'black': 13.452365432145461,\n",
       "  'other': 15.302133148879681,\n",
       "  'white': 16.539728566122744},\n",
       " 'vmt_per_capita_hispanic': {'hispanic': 14.594028279492939,\n",
       "  'non_hispanic': 16.33409630975586},\n",
       " 'vmt_per_capita_county': {'Alameda': 17.118590412909786,\n",
       "  'Contra Costa': 18.795241876880695,\n",
       "  'Marin': 18.19486510135572,\n",
       "  'Napa': 26.041923099093967,\n",
       "  'San Francico': 5.945400088929361,\n",
       "  'San Mateo': 14.708025109017811,\n",
       "  'Santa Clara': 15.360741426894332,\n",
       "  'Solano': 22.968937777537615,\n",
       "  'Sonoma': 16.02924617770694},\n",
       " 'total_cs': 565828.6758924447,\n",
       " 'cs_per_capita': 421.6309060301376,\n",
       " 'cs_per_capita_income': {'low': 406.5314064176837,\n",
       "  'middle': 490.9966325922382,\n",
       "  'high': 364.54191251573974},\n",
       " 'cs_per_capita_race': {'asian': 139.06110825897113,\n",
       "  'black': 738.4389954731358,\n",
       "  'other': 663.0036052097269,\n",
       "  'white': 443.00715675478216},\n",
       " 'cs_per_capita_hispanic': {'hispanic': 575.0786586674858,\n",
       "  'non_hispanic': 370.98858528857477},\n",
       " 'cs_per_capita_county': {'Alameda': 375.9273143869237,\n",
       "  'Contra Costa': 774.4618260156518,\n",
       "  'Marin': 242.15467318406138,\n",
       "  'Napa': 404.0786266795897,\n",
       "  'San Francico': 180.56036768613603,\n",
       "  'San Mateo': 292.17798633703285,\n",
       "  'Santa Clara': 236.54116683819746,\n",
       "  'Solano': 963.7840433710732,\n",
       "  'Sonoma': 589.4727161083867},\n",
       " 'transit_ridersip': 310,\n",
       " 'mode_shares': {'Drive Alone': 0.4321844225604297,\n",
       "  'Shared Ride': 0.3312444046553268,\n",
       "  'Walk': 0.09668755595344673,\n",
       "  'Public Transit': 0.0693822739480752,\n",
       "  'TNC - Ride Alone': 0.051477170993733216,\n",
       "  'Bike': 0.010071620411817368,\n",
       "  'TNC - Pooled': 0.008952551477170993},\n",
       " 'average_vehicle_ownership': 1.832,\n",
       " 'seat_utilization': 1.3333767672161054,\n",
       " 'average_traveltime_purpose': {'commute': 22.69919776916504,\n",
       "  'non_commute': 19.43726921081543},\n",
       " 'average_traveltime_mode': {'Bike': 13.645142555236816,\n",
       "  'Drive Alone': 19.732017517089844,\n",
       "  'Public Transit': 25.08983612060547,\n",
       "  'Shared Ride': 18.267257690429688,\n",
       "  'TNC - Pooled': 12.775026321411133,\n",
       "  'TNC - Ride Alone': 12.146293640136719,\n",
       "  'Walk': 38.94742202758789},\n",
       " 'average_traveltime_income': {'low': 20.2429256439209,\n",
       "  'middle': 21.778972625732422,\n",
       "  'high': 21.324687957763672},\n",
       " 'average_commute_trip_lenght': {'Bike': 2.7290284633636475,\n",
       "  'Drive Alone': 8.247016906738281,\n",
       "  'Public Transit': 5.608158111572266,\n",
       "  'Shared Ride': 6.81843900680542,\n",
       "  'TNC - Pooled': 6.173205852508545,\n",
       "  'TNC - Ride Alone': 4.437307834625244,\n",
       "  'Walk': 1.9473711252212524}}"
      ]
     },
     "execution_count": 3,
     "metadata": {},
     "output_type": "execute_result"
    }
   ],
   "source": [
    "kpi.get_scenario_results('tnc_price', 'ex_6', 'scenario_1')"
   ]
  },
  {
   "cell_type": "code",
   "execution_count": null,
   "id": "3d18dba2",
   "metadata": {},
   "outputs": [],
   "source": [
    "# scenario = '14_tnc_price_-025'\n",
    "\n",
    "# def s3_path(scenario,table):\n",
    "#     return 's3://carb-results/{}/final_{}.csv'.format(scenario,table)\n",
    "\n",
    "# households = pd.read_csv(s3_path(scenario,'households'), index_col = 'household_id')\n",
    "# persons = pd.read_csv(s3_path(scenario,'persons'), index_col = 'person_id')\n",
    "# trips = pd.read_csv(s3_path(scenario,'trips'), index_col = 'trip_id')"
   ]
  },
  {
   "cell_type": "code",
   "execution_count": null,
   "id": "4e91e8b9",
   "metadata": {},
   "outputs": [],
   "source": [
    "# # Working with a sample \n",
    "# scenario = 'ex_6'\n",
    "# households = pd.read_csv('tmp/ex_6/final_households.csv', index_col = 'household_id')\n",
    "# persons = pd.read_csv('tmp/ex_6/final_persons.csv', index_col = 'person_id')\n",
    "# trips = pd.read_csv('tmp/ex_6/final_trips.csv', index_col = 'trip_id')\n",
    "\n",
    "# scenario = 'ex_6'\n",
    "\n",
    "# h_sample = households.sample(500)\n",
    "# p_sample = persons[persons.household_id.isin(h_sample.index)]\n",
    "# t_sample = trips[trips.household_id.isin(h_sample.index)]\n",
    "\n",
    "# h_sample.to_csv('tmp/{}/households.csv'.format(scenario))\n",
    "# p_sample.to_csv('tmp/{}/persons.csv'.format(scenario))\n",
    "# t_sample.to_csv('tmp/{}/trips.csv'.format(scenario))\n",
    "# skims = omx.open_file('tmp/{}/skims.omx'.format('ex_1'), 'r')"
   ]
  },
  {
   "cell_type": "code",
   "execution_count": null,
   "id": "e7c6bfd7",
   "metadata": {},
   "outputs": [],
   "source": [
    "scenario = 'ex_6'\n",
    "households = pd.read_csv('tmp/ex_6/households.csv', index_col = 'household_id')\n",
    "persons = pd.read_csv('tmp/ex_6/persons.csv', index_col = 'person_id')\n",
    "trips = pd.read_csv('tmp/ex_6/trips.csv', index_col = 'trip_id', \n",
    "                    dtype = {'origin':int, 'destination':int})\n",
    "skims = omx.open_file('tmp/ex_6/skims.omx'.format('ex_1'), 'r')\n",
    "mapping = kpi.read_yaml('mapping.yaml')"
   ]
  },
  {
   "cell_type": "code",
   "execution_count": null,
   "id": "2a93e2f9",
   "metadata": {},
   "outputs": [],
   "source": [
    "df, p_df = kpi.add_results_variables(mapping, trips, households, persons, skims)"
   ]
  },
  {
   "cell_type": "code",
   "execution_count": null,
   "id": "3db23411",
   "metadata": {},
   "outputs": [],
   "source": []
  },
  {
   "cell_type": "code",
   "execution_count": null,
   "id": "ab49afb7",
   "metadata": {},
   "outputs": [],
   "source": [
    "df.cs.plot.hist(bins = 100)"
   ]
  },
  {
   "cell_type": "code",
   "execution_count": null,
   "id": "56ac0fd7",
   "metadata": {},
   "outputs": [],
   "source": [
    "persons"
   ]
  },
  {
   "cell_type": "markdown",
   "id": "b40e5800",
   "metadata": {},
   "source": [
    "## VMT per capita"
   ]
  },
  {
   "cell_type": "code",
   "execution_count": null,
   "id": "5735dd8a",
   "metadata": {},
   "outputs": [],
   "source": [
    "def vmt_per_capita(trips, persons):\n",
    "    n = len(persons)\n",
    "    vmt_total = trips['VMT'].sum()\n",
    "    return vmt_total/n\n",
    "\n",
    "def vmt_per_capita_income(trips, persons):\n",
    "    persons_segment = persons.groupby('income_category')['PNUM'].count()\n",
    "    total_segment = trips.groupby('income_category').agg({'VMT':'sum'})\n",
    "    kpi = total_segment.div(persons_segment, axis = 0)\n",
    "    return kpi.to_dict()['VMT']\n",
    "\n",
    "def vmt_per_capita_race(trips, persons):\n",
    "    persons_segment = persons.groupby('race')['PNUM'].count()\n",
    "    total_segment = trips.groupby('race').agg({'VMT':'sum'})\n",
    "    kpi = total_segment.div(persons_segment, axis = 0)\n",
    "    return kpi.to_dict()['VMT']\n",
    "\n",
    "def vmt_per_capita_hispanic(trips, persons):\n",
    "    persons_segment = persons.groupby('hispanic')['PNUM'].count()\n",
    "    total_segment = trips.groupby('hispanic').agg({'VMT':'sum'})\n",
    "    kpi = total_segment.div(persons_segment, axis = 0)\n",
    "    return kpi.to_dict()['VMT']\n",
    "\n",
    "def vmt_per_capita_county(trips, persons):\n",
    "    persons_segment = persons.groupby('lcm_county_id')['PNUM'].count()\n",
    "    total_segment = trips.groupby('lcm_county_id').agg({'VMT':'sum'})\n",
    "    kpi = total_segment.div(persons_segment, axis = 0)\n",
    "    return kpi.to_dict()['VMT']\n",
    "\n"
   ]
  },
  {
   "cell_type": "code",
   "execution_count": null,
   "id": "57115522",
   "metadata": {},
   "outputs": [],
   "source": [
    "vmt_per_capita(df, p_df)"
   ]
  },
  {
   "cell_type": "code",
   "execution_count": null,
   "id": "4bc34bdd",
   "metadata": {},
   "outputs": [],
   "source": [
    "vmt_per_capita_income(df, p_df)"
   ]
  },
  {
   "cell_type": "code",
   "execution_count": null,
   "id": "a9b6e678",
   "metadata": {},
   "outputs": [],
   "source": [
    "vmt_per_capita_race(df, p_df)"
   ]
  },
  {
   "cell_type": "code",
   "execution_count": null,
   "id": "55cb1077",
   "metadata": {},
   "outputs": [],
   "source": [
    "vmt_per_capita_hispanic(df, p_df)"
   ]
  },
  {
   "cell_type": "code",
   "execution_count": null,
   "id": "606204c6",
   "metadata": {},
   "outputs": [],
   "source": [
    "vmt_per_capita_county(df, p_df)"
   ]
  },
  {
   "cell_type": "markdown",
   "id": "dcf5ecf8",
   "metadata": {},
   "source": [
    "## Consumer Surplus "
   ]
  },
  {
   "cell_type": "code",
   "execution_count": null,
   "id": "d8801bd2",
   "metadata": {},
   "outputs": [],
   "source": [
    "def total_consumer_surplus(trips):\n",
    "    return float(trips['cs'].sum())\n",
    "\n",
    "def consumer_surplus_per_capita(trips, persons):\n",
    "    n = len(persons)\n",
    "    total = trips['cs'].sum()\n",
    "    return float(total/n)\n",
    "\n",
    "def consumer_surplus_per_capita_income(trips, persons):\n",
    "    persons_segment = persons.groupby('income_category')['PNUM'].count()\n",
    "    total_segment = trips.groupby('income_category').agg({'cs':'sum'})\n",
    "    kpi = total_segment.div(persons_segment, axis = 0)\n",
    "    return kpi.to_dict()['cs']\n",
    "\n",
    "def consumer_surplus_per_capita_race(trips, persons):\n",
    "    persons_segment = persons.groupby('race')['PNUM'].count()\n",
    "    total_segment = trips.groupby('race').agg({'cs':'sum'})\n",
    "    kpi = total_segment.div(persons_segment, axis = 0)\n",
    "    return kpi.to_dict()['cs']\n",
    "\n",
    "def consumer_surplus_per_capita_hispanic(trips, persons):\n",
    "    persons_segment = persons.groupby('hispanic')['PNUM'].count()\n",
    "    total_segment = trips.groupby('hispanic').agg({'cs':'sum'})\n",
    "    kpi = total_segment.div(persons_segment, axis = 0)\n",
    "    return kpi.to_dict()['cs']\n",
    "\n",
    "def consumer_surplus_per_capita_county(trips, persons):\n",
    "    persons_segment = persons.groupby('lcm_county_id')['PNUM'].count()\n",
    "    total_segment = trips.groupby('lcm_county_id').agg({'cs':'sum'})\n",
    "    kpi = total_segment.div(persons_segment, axis = 0)\n",
    "    return kpi.to_dict()['cs']"
   ]
  },
  {
   "cell_type": "code",
   "execution_count": null,
   "id": "825b49e2",
   "metadata": {},
   "outputs": [],
   "source": [
    "consumer_surplus_per_capita(df, p_df)"
   ]
  },
  {
   "cell_type": "code",
   "execution_count": null,
   "id": "02a7ea11",
   "metadata": {},
   "outputs": [],
   "source": [
    "consumer_surplus_per_capita_income(df, p_df)"
   ]
  },
  {
   "cell_type": "code",
   "execution_count": null,
   "id": "8e78f649",
   "metadata": {},
   "outputs": [],
   "source": [
    "consumer_surplus_per_capita_race(df, p_df)"
   ]
  },
  {
   "cell_type": "code",
   "execution_count": null,
   "id": "6df56a36",
   "metadata": {},
   "outputs": [],
   "source": [
    "consumer_surplus_per_capita_hispanic(df, p_df)"
   ]
  },
  {
   "cell_type": "code",
   "execution_count": null,
   "id": "bd662b48",
   "metadata": {},
   "outputs": [],
   "source": [
    "consumer_surplus_per_capita_county(df, p_df)"
   ]
  },
  {
   "cell_type": "markdown",
   "id": "39481ca7",
   "metadata": {},
   "source": [
    "## Others"
   ]
  },
  {
   "cell_type": "code",
   "execution_count": null,
   "id": "21a18bac",
   "metadata": {},
   "outputs": [],
   "source": [
    "def transit_ridersip(trips):\n",
    "    return int(trips.carb_mode.isin(['Public Transit']).sum())\n",
    "\n",
    "def mode_shares(trips):\n",
    "    ms = trips.carb_mode.value_counts(normalize=True)\n",
    "    return ms.to_dict()\n",
    "\n",
    "def average_vehicle_ownership(households):\n",
    "    return float(households.auto_ownership.mean())\n",
    "\n",
    "def seat_utilization(trips):\n",
    "    veh_1 = int(trips['trip_mode'].isin(['DRIVEALONEFREE','DRIVEALONEPAY']).sum())\n",
    "    veh_2 = int(trips['trip_mode'].isin(['SHARED2FREE','SHARED2PAY']).sum())\n",
    "    veh_3 = int(trips['trip_mode'].isin(['SHARED3FREE','SHARED3PAY']).sum())      \n",
    "    return float((veh_1 + veh_2 + veh_3)/(veh_1 + veh_2/2 + veh_3/3))\n",
    "\n",
    "def average_traveltime_purpose(trips):\n",
    "    s = trips.groupby('commute').agg({'travel_time':'mean'})\n",
    "    return s.to_dict()['travel_time']\n",
    "\n",
    "def average_traveltime_mode(trips):\n",
    "    s = trips.groupby('carb_mode').agg({'travel_time':'mean'})\n",
    "    return s.to_dict()['travel_time']\n",
    "\n",
    "def average_traveltime_income(trips):\n",
    "    s = trips.groupby('income_category').agg({'travel_time':'mean'})\n",
    "    return s.to_dict()['travel_time']\n",
    "\n",
    "def average_commute_trip_lenght(trips):\n",
    "    s = trips.groupby('carb_mode').agg({'dist_miles':'mean'})\n",
    "    return s.to_dict()['dist_miles']\n"
   ]
  },
  {
   "cell_type": "code",
   "execution_count": null,
   "id": "943649d0",
   "metadata": {},
   "outputs": [],
   "source": [
    "transit_ridersip(df)"
   ]
  },
  {
   "cell_type": "code",
   "execution_count": null,
   "id": "50f1f1cb",
   "metadata": {},
   "outputs": [],
   "source": [
    "mode_shares(df)"
   ]
  },
  {
   "cell_type": "code",
   "execution_count": null,
   "id": "ece8cffe",
   "metadata": {},
   "outputs": [],
   "source": [
    "average_vehicle_ownership(households)"
   ]
  },
  {
   "cell_type": "code",
   "execution_count": null,
   "id": "df813f0f",
   "metadata": {},
   "outputs": [],
   "source": [
    "seat_utilization(trips)"
   ]
  },
  {
   "cell_type": "code",
   "execution_count": null,
   "id": "9cc828d3",
   "metadata": {},
   "outputs": [],
   "source": [
    "average_traveltime_purpose(df)"
   ]
  },
  {
   "cell_type": "code",
   "execution_count": null,
   "id": "c6b2a85f",
   "metadata": {},
   "outputs": [],
   "source": [
    "average_traveltime_mode(df)"
   ]
  },
  {
   "cell_type": "code",
   "execution_count": null,
   "id": "98b3430e",
   "metadata": {},
   "outputs": [],
   "source": [
    "average_traveltime_income(df)"
   ]
  },
  {
   "cell_type": "code",
   "execution_count": null,
   "id": "69ce587e",
   "metadata": {},
   "outputs": [],
   "source": [
    "average_commute_trip_lenght(df)"
   ]
  },
  {
   "cell_type": "code",
   "execution_count": null,
   "id": "b34c05ac",
   "metadata": {},
   "outputs": [],
   "source": [
    "kpi.get_scenario_results('exaple_1', 'ex_6', 'scenario_1')"
   ]
  },
  {
   "cell_type": "code",
   "execution_count": 9,
   "id": "08dd3106",
   "metadata": {},
   "outputs": [],
   "source": [
    "a = \"hola_{}\"#.format(scenario = 'hola')"
   ]
  },
  {
   "cell_type": "code",
   "execution_count": 10,
   "id": "a1d4eec5",
   "metadata": {},
   "outputs": [
    {
     "data": {
      "text/plain": [
       "'hola_h'"
      ]
     },
     "execution_count": 10,
     "metadata": {},
     "output_type": "execute_result"
    }
   ],
   "source": [
    "a.format('h')"
   ]
  },
  {
   "cell_type": "code",
   "execution_count": null,
   "id": "ba49c544",
   "metadata": {},
   "outputs": [],
   "source": []
  }
 ],
 "metadata": {
  "kernelspec": {
   "display_name": "Python 3 (ipykernel)",
   "language": "python",
   "name": "python3"
  },
  "language_info": {
   "codemirror_mode": {
    "name": "ipython",
    "version": 3
   },
   "file_extension": ".py",
   "mimetype": "text/x-python",
   "name": "python",
   "nbconvert_exporter": "python",
   "pygments_lexer": "ipython3",
   "version": "3.9.13"
  }
 },
 "nbformat": 4,
 "nbformat_minor": 5
}
