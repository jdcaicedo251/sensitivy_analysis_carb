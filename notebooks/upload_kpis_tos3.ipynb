{
 "cells": [
  {
   "cell_type": "markdown",
   "id": "c441a90a",
   "metadata": {},
   "source": [
    "The objective of this notebook is to uupload KPI to the S3 bucket. Unfortunately, I made a mistake with the Consumer surplus estimation, and the I re-estimated everything. I just need to update that in the S3 bucket. "
   ]
  },
  {
   "cell_type": "code",
   "execution_count": 1,
   "id": "c14b2a5a",
   "metadata": {},
   "outputs": [],
   "source": [
    "import os\n",
    "import logging\n",
    "import boto3\n",
    "from botocore.exceptions import ClientError"
   ]
  },
  {
   "cell_type": "code",
   "execution_count": 2,
   "id": "fe59e5e6",
   "metadata": {},
   "outputs": [],
   "source": [
    "def upload_file(file_name, bucket, object_name=None):\n",
    "    \"\"\"Upload a file to an S3 bucket\n",
    "\n",
    "    :param file_name: File to upload\n",
    "    :param bucket: Bucket to upload to\n",
    "    :param object_name: S3 object name. If not specified then file_name is used\n",
    "    :return: True if file was uploaded, else False\n",
    "    \"\"\"\n",
    "\n",
    "    # If S3 object_name was not specified, use file_name\n",
    "    if object_name is None:\n",
    "        object_name = os.path.basename(file_name)\n",
    "\n",
    "    # Upload the file\n",
    "    s3_client = boto3.client('s3')\n",
    "    try:\n",
    "        response = s3_client.upload_file(file_name, bucket, object_name)\n",
    "    except ClientError as e:\n",
    "        logging.error(e)\n",
    "        return False\n",
    "    return True"
   ]
  },
  {
   "cell_type": "code",
   "execution_count": 3,
   "id": "5d17fa6a",
   "metadata": {},
   "outputs": [],
   "source": [
    "file_name = 'kpi_03_transit_frequencies_+100.yaml'\n",
    "scenario_name = file_name[4:-5]\n",
    "file_local_path = '../kpis_new/{}'.format(file_name)\n",
    "object_name = '{}/{}'.format(scenario_name, file_name)\n",
    "bucket = 'carb-results'"
   ]
  },
  {
   "cell_type": "code",
   "execution_count": 4,
   "id": "d5c72422",
   "metadata": {},
   "outputs": [
    {
     "data": {
      "text/plain": [
       "True"
      ]
     },
     "execution_count": 4,
     "metadata": {},
     "output_type": "execute_result"
    }
   ],
   "source": [
    "upload_file(file_local_path, bucket, object_name=object_name)"
   ]
  },
  {
   "cell_type": "code",
   "execution_count": null,
   "id": "c18a6822",
   "metadata": {},
   "outputs": [],
   "source": [
    "kpis = os.listdir('../kpis_new/')"
   ]
  },
  {
   "cell_type": "code",
   "execution_count": null,
   "id": "914d2836",
   "metadata": {},
   "outputs": [],
   "source": [
    "for kpi in kpis:\n",
    "    file_name = kpi\n",
    "    scenario_name = file_name[4:-5]\n",
    "    file_local_path = '../kpis_new/{}'.format(file_name)\n",
    "    object_name = '{}/{}'.format(scenario_name, file_name)\n",
    "    bucket = 'carb-results'\n",
    "    upload_file(file_local_path, bucket, object_name=object_name)"
   ]
  },
  {
   "cell_type": "code",
   "execution_count": null,
   "id": "4e32f73e",
   "metadata": {},
   "outputs": [],
   "source": []
  }
 ],
 "metadata": {
  "kernelspec": {
   "display_name": "Python 3 (ipykernel)",
   "language": "python",
   "name": "python3"
  },
  "language_info": {
   "codemirror_mode": {
    "name": "ipython",
    "version": 3
   },
   "file_extension": ".py",
   "mimetype": "text/x-python",
   "name": "python",
   "nbconvert_exporter": "python",
   "pygments_lexer": "ipython3",
   "version": "3.9.13"
  }
 },
 "nbformat": 4,
 "nbformat_minor": 5
}
