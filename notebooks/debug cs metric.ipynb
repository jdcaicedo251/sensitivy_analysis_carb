{
 "cells": [
  {
   "cell_type": "code",
   "execution_count": 1,
   "id": "548fb71c",
   "metadata": {},
   "outputs": [],
   "source": [
    "import os\n",
    "import sys\n",
    "import time\n",
    "import boto3\n",
    "import logging\n",
    "import pandas as pd\n",
    "import openmatrix as omx\n",
    "from zipfile import ZipFile\n",
    "\n",
    "s3_client = boto3.client('s3')\n",
    "\n",
    "logging.basicConfig(\n",
    "    stream=sys.stdout, level=logging.INFO,\n",
    "    format='%(asctime)s %(name)s - %(levelname)s - %(message)s')\n",
    "logger = logging.getLogger(__name__)\n",
    "\n",
    "\n",
    "os.chdir('../')\n",
    "import kpi"
   ]
  },
  {
   "cell_type": "code",
   "execution_count": 14,
   "id": "a6b4b470",
   "metadata": {},
   "outputs": [],
   "source": [
    "def download_s3(local_file_name,s3_bucket,s3_object_key):\n",
    "    \"\"\"\n",
    "    reference:\n",
    "    https://stackoverflow.com/questions/41827963/\n",
    "    track-download-progress-of-s3-file-using-boto3-and-callbacks\n",
    "    \"\"\"\n",
    "\n",
    "    meta_data = s3_client.head_object(Bucket=s3_bucket, Key=s3_object_key)\n",
    "    total_length = int(meta_data.get('ContentLength', 0))\n",
    "    downloaded = 0\n",
    "\n",
    "    def progress(chunk):\n",
    "        nonlocal downloaded\n",
    "        downloaded += chunk\n",
    "        done = int(50 * downloaded / total_length)\n",
    "        sys.stdout.write(\"\\r[%s%s]\" % ('=' * done, ' ' * (50-done)) )\n",
    "        sys.stdout.flush()\n",
    "\n",
    "    logger.info(f'Downloading {s3_object_key}')\n",
    "    with open(local_file_name, 'wb') as f:\n",
    "        s3_client.download_fileobj(s3_bucket, s3_object_key, f, Callback=progress)\n",
    "        \n",
    "def download_data(scenario):\n",
    "    \"\"\"\n",
    "    Download results (ActivitySim) of scenario in a tmp folder. \n",
    "    \n",
    "    Parameters: \n",
    "    -------------\n",
    "    - scenario: str. scenario name \n",
    "    \n",
    "    Returns:\n",
    "    --------\n",
    "    None\n",
    "    \n",
    "    \"\"\"\n",
    "    s3_bucket = 'carb-results'\n",
    "\n",
    "    file_names = ['final_households.csv', \n",
    "                  'final_persons.csv', \n",
    "                  'final_trips.csv', \n",
    "                  'skims.omx']\n",
    "\n",
    "    for file in file_names: \n",
    "        \n",
    "        asim_local_file = \"/Users/juandavidcaicedocastro/tmp/{}/{}\".format(scenario, file)\n",
    "        asim_s3_object_key = \"{}/{}\".format(scenario, file)\n",
    "        file_exist = os.path.exists(asim_local_file)\n",
    "        print(file_exist)\n",
    "\n",
    "        if file_exist:\n",
    "            print ('File {} already exists'.format(file))\n",
    "            pass\n",
    "\n",
    "        else:\n",
    "            print ('Downloading {}'.format(file))\n",
    "            download_s3(asim_local_file, s3_bucket , asim_s3_object_key)\n",
    "            \n",
    "    \n",
    "    return None    "
   ]
  },
  {
   "cell_type": "code",
   "execution_count": 15,
   "id": "7de8c8b4",
   "metadata": {},
   "outputs": [],
   "source": [
    "scenarios = os.listdir('/Users/juandavidcaicedocastro/tmp')\n",
    "a = pd.Series(scenarios).sort_values()\n",
    "b = a[~a.str.contains('fare')]\n",
    "c = b[~b.str.contains('av_')]\n",
    "d = c[~c.str.contains('.DS')]\n",
    "scenarios = list(d)"
   ]
  },
  {
   "cell_type": "code",
   "execution_count": 16,
   "id": "198fc642",
   "metadata": {},
   "outputs": [],
   "source": [
    "# scenarios[22:31] : Done\n",
    "# scenarios[2:22]: Done\n",
    "# scenarios[-8:]: Done\n",
    "# scenarios[2]"
   ]
  },
  {
   "cell_type": "code",
   "execution_count": 19,
   "id": "0ad2e8db",
   "metadata": {},
   "outputs": [
    {
     "data": {
      "text/plain": [
       "['03_transit_frequencies_+100']"
      ]
     },
     "execution_count": 19,
     "metadata": {},
     "output_type": "execute_result"
    }
   ],
   "source": [
    "[scenarios[2]]"
   ]
  },
  {
   "cell_type": "code",
   "execution_count": null,
   "id": "dc5f9c76",
   "metadata": {},
   "outputs": [],
   "source": [
    "scenario\n",
    "asim_local_file = \"/Users/juandavidcaicedocastro/tmp/{}/{}\".format(scenario, file)\n",
    "asim_s3_object_key = \"{}/{}\".format(scenario, file)\n",
    "file_exist = os.path.exists(asim_local_file)"
   ]
  },
  {
   "cell_type": "code",
   "execution_count": 20,
   "id": "edb0df3b",
   "metadata": {},
   "outputs": [
    {
     "name": "stdout",
     "output_type": "stream",
     "text": [
      "Download Data for: 03_transit_frequencies_+100\n",
      "True\n",
      "File final_households.csv already exists\n",
      "True\n",
      "File final_persons.csv already exists\n",
      "True\n",
      "File final_trips.csv already exists\n",
      "True\n",
      "File skims.omx already exists\n",
      "2022-10-22 11:31:14,417 root - INFO - Saving policy scenario resutls\n",
      "Trips shape: (25623977, 14)\n",
      "Households shape: (2877015, 60)\n",
      "Mean TRIP VOT: 9.650615288034512\n",
      "Trips shape, after merging: (25623977, 32)\n",
      "Persons shape after merging: (7511523, 90)\n",
      "Sum of c_cost: -85126.00611404733\n",
      "Sum of c_ivt: -641718.232299998\n",
      "Sum of value of time: 247287144.1764447\n",
      "Sum of cs: -3411153350.741324\n",
      "2022-10-22 11:37:10,052 root - INFO - Calulating total VMT...\n",
      "2022-10-22 11:37:10,837 root - INFO - Calulating VMT per capita...\n",
      "2022-10-22 11:37:10,878 root - INFO - Calulating VMT per capita by income...\n",
      "2022-10-22 11:37:11,257 root - INFO - Calulating VMT per capita by race...\n",
      "2022-10-22 11:37:13,314 root - INFO - Calulating VMT per capita by hispanic...\n",
      "2022-10-22 11:37:15,500 root - INFO - Calulating VMT per capita by county...\n",
      "2022-10-22 11:37:17,705 root - INFO - Calulating consumer surplus...\n",
      "-3411153350.741324\n",
      "2022-10-22 11:37:17,792 root - INFO - Calulating average consumer surplus...\n",
      "2022-10-22 11:37:17,839 root - INFO - Calulating average consumer surplus by income...\n",
      "2022-10-22 11:37:18,114 root - INFO - Calulating average consumer surplus by race...\n",
      "2022-10-22 11:37:19,754 root - INFO - Calulating average consumer surplus by hispanic...\n",
      "2022-10-22 11:37:21,510 root - INFO - Calulating average consumer surplus by county...\n",
      "2022-10-22 11:37:23,350 root - INFO - Calulating transit ridership...\n",
      "2022-10-22 11:37:24,029 root - INFO - Calulating mode shares...\n",
      "2022-10-22 11:37:25,428 root - INFO - Calulating vehicle ownership...\n",
      "2022-10-22 11:37:25,504 root - INFO - Calulating seat utilization...\n",
      "2022-10-22 11:37:29,729 root - INFO - Calulating average travel time by purpose...\n",
      "2022-10-22 11:37:32,391 root - INFO - Calulating average travel time by mode...\n",
      "2022-10-22 11:37:34,304 root - INFO - Calulating average travel time by income...\n",
      "2022-10-22 11:37:34,700 root - INFO - Calulating average commute trip lenght...\n",
      "\n"
     ]
    }
   ],
   "source": [
    "for scenario in [scenarios[2]]:\n",
    "    print ('Download Data for: {}'.format(scenario))\n",
    "    download_data(scenario)\n",
    "    dict_results = kpi.kpi_pilates(scenario)\n",
    "    kpi.save_yaml('kpis_new/kpi_{}'.format(scenario), dict_results)\n",
    "    print('')"
   ]
  },
  {
   "cell_type": "markdown",
   "id": "292e3f2b",
   "metadata": {},
   "source": [
    "## Debug 03_transit_frequencies"
   ]
  },
  {
   "cell_type": "code",
   "execution_count": null,
   "id": "4fcc2714",
   "metadata": {},
   "outputs": [],
   "source": [
    "scenario = '03_transit_frequencies_+100'\n",
    "hh_fpath = os.path.join('/Users/juandavidcaicedocastro/tmp', scenario,'final_households.csv')\n",
    "pp_fpath = os.path.join('/Users/juandavidcaicedocastro/tmp', scenario,'final_persons.csv')\n",
    "tt_fpath = os.path.join('/Users/juandavidcaicedocastro/tmp', scenario,'final_trips.csv')\n",
    "ss_fpath = os.path.join('/Users/juandavidcaicedocastro/tmp', scenario,'skims.omx')"
   ]
  },
  {
   "cell_type": "code",
   "execution_count": null,
   "id": "e4f660a0",
   "metadata": {},
   "outputs": [],
   "source": [
    "households = pd.read_csv(hh_fpath, index_col = 'household_id')\n",
    "persons = pd.read_csv(pp_fpath, index_col = 'person_id')\n",
    "trips = pd.read_csv(tt_fpath, index_col = 'trip_id', dtype = {'origin':int, 'destination':int})\n",
    "skims = omx.open_file(ss_fpath, 'r')\n",
    "mapping = read_yaml('/Users/juandavidcaicedocastro/Dropbox/01_berkeley/22_UrbanSim/github/sensitivy_analysis_carb/mapping.yaml')"
   ]
  },
  {
   "cell_type": "code",
   "execution_count": null,
   "id": "e798b31e",
   "metadata": {},
   "outputs": [],
   "source": []
  }
 ],
 "metadata": {
  "kernelspec": {
   "display_name": "Python 3 (ipykernel)",
   "language": "python",
   "name": "python3"
  },
  "language_info": {
   "codemirror_mode": {
    "name": "ipython",
    "version": 3
   },
   "file_extension": ".py",
   "mimetype": "text/x-python",
   "name": "python",
   "nbconvert_exporter": "python",
   "pygments_lexer": "ipython3",
   "version": "3.9.13"
  }
 },
 "nbformat": 4,
 "nbformat_minor": 5
}
