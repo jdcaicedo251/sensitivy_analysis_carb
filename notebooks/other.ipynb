{
 "cells": [
  {
   "cell_type": "code",
   "execution_count": 27,
   "id": "a098c9f3",
   "metadata": {},
   "outputs": [],
   "source": [
    "import os\n",
    "import sys\n",
    "import time\n",
    "import boto3\n",
    "import logging\n",
    "import pandas as pd\n",
    "import openmatrix as omx\n",
    "from zipfile import ZipFile\n",
    "\n",
    "s3_client = boto3.client('s3')\n",
    "\n",
    "logging.basicConfig(\n",
    "    stream=sys.stdout, level=logging.INFO,\n",
    "    format='%(asctime)s %(name)s - %(levelname)s - %(message)s')\n",
    "logger = logging.getLogger(__name__)\n",
    "\n",
    "\n",
    "os.chdir('../')\n",
    "import kpi"
   ]
  },
  {
   "cell_type": "code",
   "execution_count": null,
   "id": "463ef279",
   "metadata": {},
   "outputs": [],
   "source": [
    "scenario = '01_base_000'\n",
    "hh_fpath = os.path.join('/Users/juandavidcaicedocastro/tmp', scenario,'final_households.csv')\n",
    "pp_fpath = os.path.join('/Users/juandavidcaicedocastro/tmp', scenario,'final_persons.csv')\n",
    "tt_fpath = os.path.join('/Users/juandavidcaicedocastro/tmp', scenario,'final_trips.csv')\n",
    "ss_fpath = os.path.join('/Users/juandavidcaicedocastro/tmp', scenario,'skims.omx')\n",
    "\n",
    "households = pd.read_csv(hh_fpath, index_col = 'household_id')\n",
    "persons = pd.read_csv(pp_fpath, index_col = 'person_id')\n",
    "trips = pd.read_csv(tt_fpath, index_col = 'trip_id', dtype = {'origin':int, 'destination':int})\n",
    "skims = omx.open_file(ss_fpath, 'r')"
   ]
  },
  {
   "cell_type": "code",
   "execution_count": 9,
   "id": "dfe29cad",
   "metadata": {},
   "outputs": [],
   "source": [
    "mapping = kpi.read_yaml('/Users/juandavidcaicedocastro/Dropbox/01_berkeley/22_UrbanSim/github/sensitivy_analysis_carb/mapping.yaml')"
   ]
  },
  {
   "cell_type": "code",
   "execution_count": 10,
   "id": "67d0ae43",
   "metadata": {},
   "outputs": [
    {
     "name": "stdout",
     "output_type": "stream",
     "text": [
      "Mean Persons VOT: 9.330766117704544\n",
      "Mean TRIP VOT: 11.340948251055327\n",
      "Trips shape, after merging: (20, 32)\n",
      "Persons shape after merging: (7512006, 90)\n",
      "Sum of c_cost: -0.055746031812142445\n",
      "Sum of c_ivt: -0.47879999999999995\n",
      "Sum of value of time: 226.81896502110652\n",
      "Sum of cs: -5371.999653559184\n",
      "CPU times: user 15.4 s, sys: 16 s, total: 31.4 s\n",
      "Wall time: 40.1 s\n"
     ]
    }
   ],
   "source": [
    "%%time\n",
    "trips_new, persons_new = kpi.add_results_variables(mappings, trips, households, persons, skims)"
   ]
  },
  {
   "cell_type": "code",
   "execution_count": 14,
   "id": "845e9a89",
   "metadata": {},
   "outputs": [
    {
     "data": {
      "text/plain": [
       "Index(['person_id', 'household_id', 'tour_id', 'primary_purpose', 'trip_num',\n",
       "       'outbound', 'trip_count', 'purpose', 'destination', 'origin',\n",
       "       'destination_logsum', 'depart', 'trip_mode', 'mode_choice_logsum',\n",
       "       'dist_miles', 'carb_mode', 'commute', 'period', 'mode_index',\n",
       "       'travel_time', 'driving_access_mode_index', 'driving_access', 'VMT',\n",
       "       'c_ivt', 'income', 'lcm_county_id', 'race', 'hispanic', 'value_of_time',\n",
       "       'income_category', 'c_cost', 'cs'],\n",
       "      dtype='object')"
      ]
     },
     "execution_count": 14,
     "metadata": {},
     "output_type": "execute_result"
    }
   ],
   "source": [
    "trips_new.columns"
   ]
  },
  {
   "cell_type": "code",
   "execution_count": 17,
   "id": "cb699828",
   "metadata": {},
   "outputs": [],
   "source": [
    "a = trips_new[['mode_choice_logsum', 'c_ivt', 'income_category','value_of_time' ,'c_cost', 'cs']]"
   ]
  },
  {
   "cell_type": "code",
   "execution_count": 18,
   "id": "54dfd803",
   "metadata": {},
   "outputs": [
    {
     "data": {
      "text/plain": [
       "income_category\n",
       "low      -215.822580\n",
       "middle   -385.234115\n",
       "high     -165.865209\n",
       "Name: cs, dtype: float64"
      ]
     },
     "execution_count": 18,
     "metadata": {},
     "output_type": "execute_result"
    }
   ],
   "source": [
    "a.groupby('income_category')['cs'].mean()"
   ]
  },
  {
   "cell_type": "code",
   "execution_count": 21,
   "id": "f2ac4c45",
   "metadata": {},
   "outputs": [
    {
     "data": {
      "text/plain": [
       "-0.002787301590607122"
      ]
     },
     "execution_count": 21,
     "metadata": {},
     "output_type": "execute_result"
    }
   ],
   "source": [
    "a['c_cost'].mean()"
   ]
  },
  {
   "cell_type": "code",
   "execution_count": 24,
   "id": "a16e92e8",
   "metadata": {},
   "outputs": [
    {
     "name": "stderr",
     "output_type": "stream",
     "text": [
      "/var/folders/d4/00lkn0rs7j3359dk7430bfy00000gn/T/ipykernel_4847/3254286993.py:1: SettingWithCopyWarning: \n",
      "A value is trying to be set on a copy of a slice from a DataFrame.\n",
      "Try using .loc[row_indexer,col_indexer] = value instead\n",
      "\n",
      "See the caveats in the documentation: https://pandas.pydata.org/pandas-docs/stable/user_guide/indexing.html#returning-a-view-versus-a-copy\n",
      "  a['cs_v2'] = a['mode_choice_logsum']/(- 1* a['c_cost'].mean())\n"
     ]
    }
   ],
   "source": [
    "a['cs_v2'] = a['mode_choice_logsum']/(- 1* a['c_cost'].mean())"
   ]
  },
  {
   "cell_type": "code",
   "execution_count": 31,
   "id": "69d9280e",
   "metadata": {},
   "outputs": [
    {
     "data": {
      "text/plain": [
       "income_category\n",
       "low      -215.822580\n",
       "middle   -385.234115\n",
       "high     -165.865209\n",
       "Name: cs, dtype: float64"
      ]
     },
     "execution_count": 31,
     "metadata": {},
     "output_type": "execute_result"
    }
   ],
   "source": [
    "a.groupby('income_category')['cs'].mean()"
   ]
  },
  {
   "cell_type": "code",
   "execution_count": 26,
   "id": "642e77ee",
   "metadata": {},
   "outputs": [
    {
     "data": {
      "text/plain": [
       "income_category\n",
       "low      -312.848189\n",
       "middle   -304.612372\n",
       "high      -79.504452\n",
       "Name: cs_v2, dtype: float64"
      ]
     },
     "execution_count": 26,
     "metadata": {},
     "output_type": "execute_result"
    }
   ],
   "source": [
    "a.groupby('income_category')['cs_v2'].mean()"
   ]
  },
  {
   "cell_type": "code",
   "execution_count": 29,
   "id": "07504b09",
   "metadata": {},
   "outputs": [
    {
     "data": {
      "text/plain": [
       "income_category\n",
       "low      -0.005227\n",
       "middle   -0.002139\n",
       "high     -0.001213\n",
       "Name: c_cost, dtype: float64"
      ]
     },
     "execution_count": 29,
     "metadata": {},
     "output_type": "execute_result"
    }
   ],
   "source": [
    "a.groupby('income_category')['c_cost'].mean()"
   ]
  },
  {
   "cell_type": "code",
   "execution_count": 30,
   "id": "5383656c",
   "metadata": {},
   "outputs": [
    {
     "data": {
      "text/plain": [
       "income_category\n",
       "low      -0.872002\n",
       "middle   -0.849047\n",
       "high     -0.221603\n",
       "Name: mode_choice_logsum, dtype: float64"
      ]
     },
     "execution_count": 30,
     "metadata": {},
     "output_type": "execute_result"
    }
   ],
   "source": [
    "a.groupby('income_category')['mode_choice_logsum'].mean()"
   ]
  },
  {
   "cell_type": "code",
   "execution_count": null,
   "id": "0252055d",
   "metadata": {},
   "outputs": [],
   "source": []
  }
 ],
 "metadata": {
  "kernelspec": {
   "display_name": "Python 3 (ipykernel)",
   "language": "python",
   "name": "python3"
  },
  "language_info": {
   "codemirror_mode": {
    "name": "ipython",
    "version": 3
   },
   "file_extension": ".py",
   "mimetype": "text/x-python",
   "name": "python",
   "nbconvert_exporter": "python",
   "pygments_lexer": "ipython3",
   "version": "3.9.13"
  }
 },
 "nbformat": 4,
 "nbformat_minor": 5
}
